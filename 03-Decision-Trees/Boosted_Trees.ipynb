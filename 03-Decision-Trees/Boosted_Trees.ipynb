{
  "nbformat": 4,
  "nbformat_minor": 0,
  "metadata": {
    "colab": {
      "provenance": []
    },
    "kernelspec": {
      "name": "python3",
      "display_name": "Python 3"
    },
    "language_info": {
      "name": "python"
    }
  },
  "cells": [
    {
      "cell_type": "markdown",
      "source": [
        "#Boosted Trees\n",
        "\n",
        "Boosted Gradient Trees, also known as Gradient Boosted Machines (GBMs), are a powerful ensemble learning algorithm used for both regression and classification tasks. The main idea behind GBMs is to combine multiple weak learners (typically decision trees) into a single, strong learner. Each individual weak learner tries to correct the mistakes of its predecessors, thus gradually improving the overall model's performance. GBMs have become a popular choice in various machine learning competitions due to their ability to achieve state-of-the-art performance on a wide range of tasks.\n",
        "\n",
        "In this notebook, we will be using the scikit-learn library to demonstrate how to build a simple GBM for classification.\n",
        "\n",
        "###Dataset\n",
        "We will be using the Iris dataset, which consists of 150 samples of iris flowers. Each sample has four features: sepal length, sepal width, petal length, and petal width. The goal of this task is to classify each flower into one of three classes: setosa, versicolor, or virginica.\n",
        "\n",
        "First, let's load the dataset and split it into training and testing sets\n"
      ],
      "metadata": {
        "id": "ztqMfO5jV2Q9"
      }
    },
    {
      "cell_type": "code",
      "source": [
        "from sklearn.datasets import load_iris\n",
        "from sklearn.model_selection import train_test_split\n",
        "\n",
        "iris = load_iris()\n",
        "X_train, X_test, y_train, y_test = train_test_split(iris.data, iris.target, test_size=0.2, random_state=42)\n"
      ],
      "metadata": {
        "id": "l8PYxH0aWLia"
      },
      "execution_count": null,
      "outputs": []
    },
    {
      "cell_type": "markdown",
      "source": [
        "###Gradient Boosting Classifier\n",
        "\n",
        "\n",
        "We have set several hyperparameters for our model:\n",
        "\n",
        "n_estimators: The number of boosting stages to perform. Each stage adds another weak learner to the model.\n",
        "learning_rate: The step size at which the boosting algorithm is applied. Lower learning rates require more boosting stages to achieve the same level of accuracy.\n",
        "max_depth: The maximum depth of each decision tree. Shallower trees are preferred to prevent overfitting.\n",
        "random_state: The seed used by the random number generator.\n",
        "\n",
        "Next, we will create a GradientBoostingClassifier object from sklearn and fit it to our training data:"
      ],
      "metadata": {
        "id": "eDnEZIyGWPr1"
      }
    },
    {
      "cell_type": "code",
      "source": [
        "from sklearn.ensemble import GradientBoostingClassifier\n",
        "\n",
        "gb_clf = GradientBoostingClassifier(n_estimators=100, learning_rate=0.1, max_depth=1, random_state=42)\n",
        "gb_clf.fit(X_train, y_train)\n"
      ],
      "metadata": {
        "colab": {
          "base_uri": "https://localhost:8080/"
        },
        "id": "_-qOdibwWSp6",
        "outputId": "26442050-6ae4-4ff7-9d3f-8c7f8d65611e"
      },
      "execution_count": null,
      "outputs": [
        {
          "output_type": "execute_result",
          "data": {
            "text/plain": [
              "GradientBoostingClassifier(max_depth=1, random_state=42)"
            ]
          },
          "metadata": {},
          "execution_count": 5
        }
      ]
    },
    {
      "cell_type": "markdown",
      "source": [
        "###Model Evaluation\n",
        "Now that we have trained our model, let's evaluate its performance on the testing data:"
      ],
      "metadata": {
        "id": "_ARTdSKaWj7l"
      }
    },
    {
      "cell_type": "code",
      "source": [
        "from sklearn.metrics import accuracy_score\n",
        "\n",
        "y_pred = gb_clf.predict(X_test)\n",
        "accuracy = accuracy_score(y_test, y_pred)\n",
        "\n",
        "print(f\"Accuracy: {accuracy:.2f}\")\n"
      ],
      "metadata": {
        "colab": {
          "base_uri": "https://localhost:8080/"
        },
        "id": "aGBUPYyPWgEP",
        "outputId": "2f03800c-0650-4cf0-966f-fe259d47c258"
      },
      "execution_count": null,
      "outputs": [
        {
          "output_type": "stream",
          "name": "stdout",
          "text": [
            "Accuracy: 1.00\n"
          ]
        }
      ]
    },
    {
      "cell_type": "markdown",
      "source": [
        "###Feature Importance\n",
        "Finally, let's take a look at the feature importance scores for our model:"
      ],
      "metadata": {
        "id": "0e9ftSMMWux3"
      }
    },
    {
      "cell_type": "code",
      "source": [
        "import matplotlib.pyplot as plt\n",
        "\n",
        "feature_importances = gb_clf.feature_importances_\n",
        "\n",
        "plt.bar(range(len(feature_importances)), feature_importances)\n",
        "plt.xticks(range(len(feature_importances)), iris.feature_names, rotation=90)\n",
        "plt.title(\"Feature Importance\")\n",
        "plt.show()\n"
      ],
      "metadata": {
        "colab": {
          "base_uri": "https://localhost:8080/",
          "height": 359
        },
        "id": "QSaAlxo0Wxor",
        "outputId": "5b04c060-90ae-44b7-b9f6-cc6f00ba1044"
      },
      "execution_count": null,
      "outputs": [
        {
          "output_type": "display_data",
          "data": {
            "text/plain": [
              "<Figure size 432x288 with 1 Axes>"
            ],
            "image/png": "[encoded data removed]"
          },
          "metadata": {
            "needs_background": "light"
          }
        }
      ]
    }
  ]
}